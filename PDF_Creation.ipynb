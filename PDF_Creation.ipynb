{
 "cells": [
  {
   "cell_type": "markdown",
   "id": "a443c9b6",
   "metadata": {},
   "source": [
    "# MATH2504 Project 2  - Discrete Event Simulations \n",
    "## Liam Bluett - 45804496 : Catriona Croton - s33442279\n",
    "### https://github.com/lbluett/Catriona-Croton-and-Liam-Bluett-2504-2021-PROJECT2\n",
    "***"
   ]
  },
  {
   "cell_type": "markdown",
   "id": "d374bc65",
   "metadata": {},
   "source": [
    "### Perspective Seminar Summary\n",
    "Anna’s interest in computing, mathematics and simulation started at a very young age, as her parents were both mathematicians who became software developers, and so were able to bring home a Commodore 64, where Anna was entranced when she first saw lion faces move across the computer screen.  As she grew, Anna’s interest then moved onto SimCity, Age of Empires, and other simulation games, which was an interest she then returned to later in her career.\n",
    "\n",
    "Anna’s career path started in pure mathematics, and her PhD was from Germany in 2009 in  Regularity Results for Minimizers of Integrals with (2,q)-Growth in the Heisenberg Group.  She then moved from Germany to Australia, and out of pure mathematics and into programming with The Simulation Group.  After nine years, this company was bought by a consulting group, and so Anna moved to a company called Integrated Logistics Company Pty Ltd, who had been the largest client with The Simulation Group, and is her current employer.  For 80% of her work time, she works in logistics, with the focus being on projects such as optimising efficiency of transport of coal such as the Darlymple Bay Coal Chain.  She also sells AnyLogic Simulation Software in the remaining 20% of her time.  She appears to enjoy her profession greatly, and states that the people in the area in which she works are “super nice”.\n",
    "\n",
    "A few key tools that Anna spoke about in her talk are agent based modelling (ABM), such as used in contagious disease diffusion in the SZR (Susceptible, Zombie, Removed) states in the Zombie paper by Cornell University researchers.  The AGM approach then evolved to hybrid models, using simulation integrated with input sources, distribution computing and output tools.  She also mentioned different simulation software packages available, including free tools such as SimPy in Python, and others such as AnyLogic and MATLAB Simulink – it was the first time I had heard of AnyLogic.\n",
    "\n",
    "The tips from Anna’s talk included detailed ones such as using at least 25 random seeds when doing modelling, and the more general overview tips, such as the discussion of choices around level of model detail.  The idea of avoiding risk from complexity as the more complex the model, then the more that can go wrong, was particularly interesting as intuitively one would think more detail equal better model.  Furthermore, the discussion around if a simulation should even be performed, and the reasons that you shouldn’t, such as if there are processes with little or no information, or the question can be answered with historical information alone, was particularly honest of Anna, given this is her chosen area of work.  I hadn’t come across the term “mathematise” before, and it was interesting to see examples of nebulous questions being converted to concrete mathematical questions that could be tested.  It was also interesting to see that an interest Anna had at a young age then become her source of income, and that discrete event simulation only started in the 1960’s, as I had assumed it had started much earlier.\n",
    "***"
   ]
  },
  {
   "cell_type": "markdown",
   "id": "45d23590",
   "metadata": {},
   "source": [
    "### Simulation Summary"
   ]
  },
  {
   "cell_type": "code",
   "execution_count": 1,
   "id": "fd4dadc3",
   "metadata": {},
   "outputs": [],
   "source": [
    "# Include graphs I guess and an explanation? I can't see anything about this - but I'm prone to missing things."
   ]
  },
  {
   "cell_type": "code",
   "execution_count": null,
   "id": "b48125b8",
   "metadata": {},
   "outputs": [],
   "source": []
  }
 ],
 "metadata": {
  "kernelspec": {
   "display_name": "Julia 1.6.2",
   "language": "julia",
   "name": "julia-1.6"
  },
  "language_info": {
   "file_extension": ".jl",
   "mimetype": "application/julia",
   "name": "julia",
   "version": "1.6.2"
  }
 },
 "nbformat": 4,
 "nbformat_minor": 5
}
